{
 "cells": [
  {
   "cell_type": "code",
   "execution_count": 10,
   "id": "1ec22ae5-b35d-4d1b-9a6c-d629f3113198",
   "metadata": {},
   "outputs": [],
   "source": [
    "# ANS 1\n",
    "list1 = [1,2,3,4,\n",
    "         \n",
    "         [44,55,66, True],\n",
    "         \n",
    "         False, \n",
    "         \n",
    "         (34,56,78,89,34),\n",
    "         \n",
    "         {1,2,3,3,2,1},\n",
    "         \n",
    "         {1:34, \"key2\": [55, 67, 78, 89], 4: (45,22, 61, 34)},\n",
    "         \n",
    "         [56, 'data science'], 'Machine Learning']"
   ]
  },
  {
   "cell_type": "code",
   "execution_count": 11,
   "id": "0408083b-22a4-44b7-a36e-b470d068b982",
   "metadata": {},
   "outputs": [
    {
     "name": "stdout",
     "output_type": "stream",
     "text": [
      "[1, 2, 3, 4, 44, 55, 66, 34, 56, 78, 89, 34, 1, 2, 3, 1, 34, 'key2', 55, 67, 78, 89, 4, 45, 22, 61, 34, 56]\n"
     ]
    }
   ],
   "source": [
    "l=[]\n",
    "for i in list1:\n",
    "    if type(i)==int:\n",
    "        l.append(i)\n",
    "    elif type(i)==list or type(i)==tuple or type(i)==set :\n",
    "        for j in i:\n",
    "            if type(j)==int:\n",
    "                l.append(j)\n",
    "    elif type(i)==dict:\n",
    "            temp_list=list(i.items())\n",
    "            for i in temp_list: \n",
    "                for element in i:\n",
    "                    if type(element)==list or type(element)==tuple:\n",
    "                        for j in element:\n",
    "                            l.append(j)\n",
    "                    else:\n",
    "                        l.append(element)\n",
    "print(l)        \n",
    "        "
   ]
  },
  {
   "cell_type": "code",
   "execution_count": 12,
   "id": "08c41dde-9966-4d3f-b1d9-52df40c7f797",
   "metadata": {},
   "outputs": [],
   "source": [
    "l.remove(\"key2\")"
   ]
  },
  {
   "cell_type": "code",
   "execution_count": 13,
   "id": "5d9fe1de-7576-44b6-a67e-ddc69d03f387",
   "metadata": {},
   "outputs": [
    {
     "name": "stdout",
     "output_type": "stream",
     "text": [
      "4134711838987085478833841242112000\n"
     ]
    }
   ],
   "source": [
    "product = 1\n",
    "for i in l:\n",
    "    product = product * i\n",
    "    \n",
    "print(product)    \n",
    "    "
   ]
  },
  {
   "cell_type": "markdown",
   "id": "47cdee1a-56d1-41fe-8301-87d1d9690514",
   "metadata": {},
   "source": [
    "# ANS 2"
   ]
  },
  {
   "cell_type": "code",
   "execution_count": 14,
   "id": "eecbb3f0-432a-4a07-8ffb-fd2f7c1ceed9",
   "metadata": {},
   "outputs": [],
   "source": [
    "s = \"I want to become a Data Scientist\""
   ]
  },
  {
   "cell_type": "code",
   "execution_count": 15,
   "id": "bd9898f7-ba1f-4cca-aed1-e34daac26cf1",
   "metadata": {},
   "outputs": [],
   "source": [
    "s1= s.lower()"
   ]
  },
  {
   "cell_type": "code",
   "execution_count": 16,
   "id": "465c0ad7-dccb-40b5-875d-3bb6494b4aab",
   "metadata": {},
   "outputs": [
    {
     "data": {
      "text/plain": [
       "'i want to become a data scientist'"
      ]
     },
     "execution_count": 16,
     "metadata": {},
     "output_type": "execute_result"
    }
   ],
   "source": [
    "s1"
   ]
  },
  {
   "cell_type": "code",
   "execution_count": 17,
   "id": "99e9166a-33cb-4306-b94f-b64b83711f9b",
   "metadata": {},
   "outputs": [
    {
     "data": {
      "text/plain": [
       "'i want to become a data scientist'"
      ]
     },
     "execution_count": 17,
     "metadata": {},
     "output_type": "execute_result"
    }
   ],
   "source": [
    "s1     "
   ]
  },
  {
   "cell_type": "code",
   "execution_count": 18,
   "id": "8ae2b813-a1a4-4a03-bc06-5dc9f87986d1",
   "metadata": {},
   "outputs": [],
   "source": [
    "dict1 = {\"a\":\"z\", \"b\":\"y\", \"c\":\"x\", \"d\":\"w\", \"e\":\"v\",\"f\":\"u\",\"g\":\"t\",\"h\":\"s\",\"i\":\"r\",\n",
    "         \"j\":\"q\",  \"k\":\"p\", \"l\":\"o\", \"m\":\"n\", \"n\":\"m\",\n",
    "         \"o\":\"l\",  \"p\":\"k\",  \"q\":\"j\",  \"r\":\"i\",  \"s\":\"h\", \"t\":\"g\", \"u\":\"f\", \"v\":\"e\" , \"w\":\"d\",\n",
    "         \"x\":\"c\",\"y\":\"b\",\"z\":\"a\" ,\" \":\"$\"}"
   ]
  },
  {
   "cell_type": "code",
   "execution_count": 19,
   "id": "1fc7fea1-5756-4798-a9d5-ab9bca7ed0b0",
   "metadata": {},
   "outputs": [
    {
     "name": "stdout",
     "output_type": "stream",
     "text": [
      "i want to become a data scientist\n"
     ]
    }
   ],
   "source": [
    "for i in s1:\n",
    "    for j in dict1:\n",
    "        if i==j:\n",
    "            s1.replace(i,dict1[j])\n",
    "print(s1)"
   ]
  },
  {
   "cell_type": "raw",
   "id": "f5274a09-148f-4927-ae80-086a8f02ab29",
   "metadata": {},
   "source": []
  },
  {
   "cell_type": "code",
   "execution_count": null,
   "id": "50ff79b7-99af-46db-b9f8-0622bbdeb156",
   "metadata": {},
   "outputs": [],
   "source": [
    "\n"
   ]
  },
  {
   "cell_type": "code",
   "execution_count": null,
   "id": "2f2aa6a4-fe98-431b-93ad-86c845482bae",
   "metadata": {},
   "outputs": [],
   "source": []
  },
  {
   "cell_type": "code",
   "execution_count": null,
   "id": "4bed55ec-7ac8-4b47-9218-09895288edc4",
   "metadata": {},
   "outputs": [],
   "source": []
  },
  {
   "cell_type": "code",
   "execution_count": null,
   "id": "fe74493a-8e21-4b85-8669-fd9dbc6f6d91",
   "metadata": {},
   "outputs": [],
   "source": []
  },
  {
   "cell_type": "code",
   "execution_count": null,
   "id": "c4429026-370a-4109-8dde-1d2dbae1ccb4",
   "metadata": {},
   "outputs": [],
   "source": []
  },
  {
   "cell_type": "code",
   "execution_count": null,
   "id": "d27b032c-ba80-47c3-83de-71779f5ad101",
   "metadata": {},
   "outputs": [],
   "source": []
  }
 ],
 "metadata": {
  "kernelspec": {
   "display_name": "Python 3 (ipykernel)",
   "language": "python",
   "name": "python3"
  },
  "language_info": {
   "codemirror_mode": {
    "name": "ipython",
    "version": 3
   },
   "file_extension": ".py",
   "mimetype": "text/x-python",
   "name": "python",
   "nbconvert_exporter": "python",
   "pygments_lexer": "ipython3",
   "version": "3.10.8"
  }
 },
 "nbformat": 4,
 "nbformat_minor": 5
}
